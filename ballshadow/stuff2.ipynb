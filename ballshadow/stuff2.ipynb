{
 "cells": [
  {
   "cell_type": "code",
   "execution_count": 403,
   "metadata": {},
   "outputs": [],
   "source": [
    "import cv2\n",
    "import numpy as np\n",
    "import matplotlib.pyplot as plt\n",
    "\n",
    "class FindOriginalBall:\n",
    "    # make a better name lol\n",
    "    # test this with images with more noise in it\n",
    "    def __init__(self, img):\n",
    "        self.img = cv2.imread(img)\n",
    "        self.gray = cv2.cvtColor(self.img, cv2.COLOR_BGR2GRAY)\n",
    "\n",
    "    def _find_ellipses(self, threshold = 0):\n",
    "        \n",
    "        # Threshold the image set between 0(high tolerance) and 255(low tolerance) 255 makes it harder to find elipses\n",
    "        ret, thresh = cv2.threshold(self.gray, threshold, 255, 0)\n",
    "        \n",
    "        # Find contours\n",
    "        contours, _ = cv2.findContours(thresh, cv2.RETR_EXTERNAL, cv2.CHAIN_APPROX_SIMPLE)\n",
    "        \n",
    "        # Check if contours are found\n",
    "        if len(contours) != 0:\n",
    "            # Iterate through contours\n",
    "            for cont in contours:\n",
    "                if len(cont) < 5:\n",
    "                    break\n",
    "                # Fit ellipse to contour\n",
    "                ellipse = cv2.fitEllipse(cont)\n",
    "                return ellipse  # Return the first fitted ellipse\n",
    "        return None\n",
    "    \n",
    "    def _find_endpoints(self,center, axes, angle):\n",
    "        # Unpack center coordinates\n",
    "        centerx, centery = center\n",
    "        # Unpack semi-major and semi-minor axes lengths\n",
    "        a, b = axes\n",
    "        # Convert angle to radians\n",
    "        angle_rad = np.deg2rad(angle)\n",
    "        \n",
    "        # Calculate coordinates of major axis endpoints\n",
    "        x1 = centerx + a/2 * np.cos(angle_rad)\n",
    "        y1 = centery - a/2 * np.sin(angle_rad)\n",
    "        x2 = centerx - a/2 * np.cos(angle_rad)\n",
    "        y2 = centery + a/2 * np.sin(angle_rad)\n",
    "        \n",
    "        return (x1, y1), (x2, y2)\n",
    "\n",
    "    def _find_circle(self, endpoints, radius):\n",
    "        endpoint1, endpoint2 = endpoints\n",
    "        midpoint = ((endpoint1[0] + endpoint2[0]) / 2, (endpoint1[1] + endpoint2[1]) / 2)\n",
    "        dx = (endpoint2[0] - endpoint1[0]) / np.linalg.norm(np.array(endpoint2) - np.array(endpoint1))\n",
    "        dy = (endpoint2[1] - endpoint1[1]) / np.linalg.norm(np.array(endpoint2) - np.array(endpoint1))\n",
    "        \n",
    "        # Calculate circle centers\n",
    "        center1 = (midpoint[0] + radius * dx, midpoint[1] + radius * dy)\n",
    "        center2 = (midpoint[0] - radius * dx, midpoint[1] - radius * dy)\n",
    "        \n",
    "        return center1, center2\n",
    "\n",
    "\n",
    "    def _create_ellipse(self, ellipse):\n",
    "        # Draw ellipse on image\n",
    "        img_with_ellipse = cv2.ellipse(self.img.copy(), ellipse, (0, 255, 0), 2)\n",
    "        \n",
    "        # Get center coordinates of the ellipse\n",
    "        center = (int(ellipse[0][0]), int(ellipse[0][1]))\n",
    "        \n",
    "        # Draw black dot at the center\n",
    "        cv2.circle(img_with_ellipse, center, 5, (0, 0, 0), -1)  # -1 to fill the circle\n",
    "        \n",
    "        return img_with_ellipse\n",
    "    \n",
    "    def _create_circle(self, circle):\n",
    "        # Create a blank image to draw the circle\n",
    "        img_with_circle = self.img.copy()\n",
    "        \n",
    "        # Draw circle on the blank image\n",
    "        print(circle[1])\n",
    "\n",
    "        cv2.circle(img_with_circle, circle[0], circle[1], (0, 255, 0), 2)\n",
    "        \n",
    "        # Get center coordinates of the circle\n",
    "        center = circle[0]\n",
    "        \n",
    "        # Draw black dot at the center\n",
    "        cv2.circle(img_with_circle, center, 5, (0, 0, 0), -1)  # -1 to fill the circle\n",
    "        \n",
    "        return img_with_circle\n",
    "    \n",
    "\n",
    "    def graph_to_original(self, v=(1,1)):\n",
    "\n",
    "        # Find ellipse\n",
    "        ellipse = self._find_ellipses()\n",
    "        print(v)\n",
    "        circle = self.calculate_original(ellipse,v)\n",
    "\n",
    "        # Draw ellipse on original image\n",
    "        if ellipse is not None:\n",
    "            img_with_ellipse = self._create_ellipse(ellipse)\n",
    "            self.img = img_with_ellipse\n",
    "            print(circle)\n",
    "            fin_image = self._create_circle(circle)\n",
    "\n",
    "            # Convert BGR image to RGB (matplotlib uses RGB)\n",
    "            fin_image_rgb = cv2.cvtColor(fin_image, cv2.COLOR_BGR2RGB)\n",
    "\n",
    "            # Display the image with ellipse using matplotlib\n",
    "            plt.imshow(fin_image)\n",
    "            plt.axis('off')  # Turn off axis\n",
    "            plt.show()\n",
    "        else:\n",
    "            print(\"No ellipse found.\")\n",
    "    \n",
    "\n",
    "    def calculate_original(self, ellipse = None, v=(1,1)):\n",
    "        if not ellipse:\n",
    "            ellipse = self._find_ellipses()\n",
    "        if ellipse:\n",
    "            x1, y1 = ellipse[0]\n",
    "            alpha = 90 - ellipse[2] # switch to x axis\n",
    "            s,l = ellipse[1]\n",
    "            x2 = x1 + (l-1.5*s)*np.cos(np.radians(alpha)) * v[0]\n",
    "            y2 = y1 + (l-1.5*s)*np.sin(np.radians(alpha)) * -v[1]\n",
    "            # equations were found on paper 5\n",
    "            \n",
    "\n",
    "            print(f\"x1: {x1}\\ny1: {y1}\\nl: {l}\\ns: {s}\\nα: {alpha}\\n\\nx2: {x2}\\ny2: {y2}\")\n",
    "            return ((int(x2),int(y2)),int(s/2))\n",
    "        return (0,0),0\n",
    "\n"
   ]
  },
  {
   "cell_type": "code",
   "execution_count": 404,
   "metadata": {},
   "outputs": [],
   "source": [
    "oval = FindOriginalBall('oval.png')"
   ]
  },
  {
   "cell_type": "code",
   "execution_count": 405,
   "metadata": {},
   "outputs": [
    {
     "name": "stdout",
     "output_type": "stream",
     "text": [
      "x1: 399.4985046386719\n",
      "y1: 199.5001220703125\n",
      "l: 802.0917358398438\n",
      "s: 401.2516784667969\n",
      "α: -6.866455078125e-05\n",
      "\n",
      "x2: 599.7127227781765\n",
      "y2: 199.50036201153443\n"
     ]
    },
    {
     "data": {
      "text/plain": [
       "((599, 199), 200)"
      ]
     },
     "execution_count": 405,
     "metadata": {},
     "output_type": "execute_result"
    }
   ],
   "source": [
    "oval.calculate_original()"
   ]
  },
  {
   "cell_type": "code",
   "execution_count": 406,
   "metadata": {},
   "outputs": [
    {
     "data": {
      "text/plain": [
       "((800.0, 200.0), (0.0, 200.0))"
      ]
     },
     "execution_count": 406,
     "metadata": {},
     "output_type": "execute_result"
    }
   ],
   "source": [
    "oval._find_endpoints((400,200),(800,400),0)"
   ]
  },
  {
   "cell_type": "code",
   "execution_count": 407,
   "metadata": {},
   "outputs": [
    {
     "data": {
      "text/plain": [
       "((200.0, 200.0), (600.0, 200.0))"
      ]
     },
     "execution_count": 407,
     "metadata": {},
     "output_type": "execute_result"
    }
   ],
   "source": [
    "oval._find_circle(((800.0, 200.0), (0.0, 200.0)), 200)"
   ]
  },
  {
   "cell_type": "code",
   "execution_count": 396,
   "metadata": {},
   "outputs": [
    {
     "name": "stdout",
     "output_type": "stream",
     "text": [
      "(1, -1)\n",
      "x1: 399.4985046386719\n",
      "y1: 199.5001220703125\n",
      "l: 802.0917358398438\n",
      "s: 401.2516784667969\n",
      "α: -6.866455078125e-05\n",
      "\n",
      "x2: 599.7127227781765\n",
      "y2: 199.49988212909057\n",
      "((599, 199), 200)\n",
      "200\n"
     ]
    },
    {
     "data": {
      "image/png": "[encoded data removed]",
      "text/plain": [
       "<Figure size 640x480 with 1 Axes>"
      ]
     },
     "metadata": {},
     "output_type": "display_data"
    }
   ],
   "source": [
    "oval.graph_to_original(v=(1,-1))"
   ]
  },
  {
   "cell_type": "code",
   "execution_count": 347,
   "metadata": {},
   "outputs": [
    {
     "data": {
      "text/plain": [
       "400.0"
      ]
     },
     "execution_count": 347,
     "metadata": {},
     "output_type": "execute_result"
    }
   ],
   "source": [
    "400 + (800-2*400)*np.cos(0)"
   ]
  },
  {
   "cell_type": "code",
   "execution_count": 348,
   "metadata": {},
   "outputs": [],
   "source": [
    "test = FindOriginalBall('black.png')"
   ]
  },
  {
   "cell_type": "code",
   "execution_count": 359,
   "metadata": {},
   "outputs": [
    {
     "name": "stdout",
     "output_type": "stream",
     "text": [
      "(-1, -1)\n",
      "x1: 97.41670227050781\n",
      "y1: 96.02039337158203\n",
      "l: 112.1022720336914\n",
      "s: 58.799468994140625\n",
      "α: 16.740463256835938\n",
      "\n",
      "x2: 74.5266620960741\n",
      "y2: 102.90535862634768\n",
      "((74, 102), 29)\n",
      "29\n"
     ]
    },
    {
     "data": {
      "image/png": "[encoded data removed]",
      "text/plain": [
       "<Figure size 640x480 with 1 Axes>"
      ]
     },
     "metadata": {},
     "output_type": "display_data"
    }
   ],
   "source": [
    "test.graph_to_original(v=(-1,-1))"
   ]
  },
  {
   "cell_type": "code",
   "execution_count": 350,
   "metadata": {},
   "outputs": [
    {
     "data": {
      "text/plain": [
       "110.88441721411796"
      ]
     },
     "execution_count": 350,
     "metadata": {},
     "output_type": "execute_result"
    }
   ],
   "source": [
    "96 + (112-58) * np.sin(np.radians(16))"
   ]
  },
  {
   "cell_type": "code",
   "execution_count": 351,
   "metadata": {},
   "outputs": [
    {
     "name": "stdout",
     "output_type": "stream",
     "text": [
      "x1: 97.41670227050781\n",
      "y1: 96.02039337158203\n",
      "l: 112.1022720336914\n",
      "s: 58.799468994140625\n",
      "α: 16.740463256835938\n",
      "\n",
      "x2: 120.30674244494152\n",
      "y2: 89.13542811681639\n"
     ]
    },
    {
     "data": {
      "text/plain": [
       "((120, 89), 29)"
      ]
     },
     "execution_count": 351,
     "metadata": {},
     "output_type": "execute_result"
    }
   ],
   "source": [
    "test.calculate_original()"
   ]
  },
  {
   "cell_type": "code",
   "execution_count": 408,
   "metadata": {},
   "outputs": [
    {
     "name": "stdout",
     "output_type": "stream",
     "text": [
      "(1, 1)\n",
      "x1: 97.75200653076172\n",
      "y1: 98.69216918945312\n",
      "l: 134.42282104492188\n",
      "s: 45.867095947265625\n",
      "α: 41.102699279785156\n",
      "\n",
      "x2: 147.20044457297462\n",
      "y2: 55.55144474395802\n",
      "((147, 55), 22)\n",
      "22\n"
     ]
    },
    {
     "data": {
      "image/png": "[encoded data removed]",
      "text/plain": [
       "<Figure size 640x480 with 1 Axes>"
      ]
     },
     "metadata": {},
     "output_type": "display_data"
    }
   ],
   "source": [
    "test2 = FindOriginalBall('black2.png')\n",
    "test2.graph_to_original(v=(1,1))"
   ]
  },
  {
   "cell_type": "code",
   "execution_count": 409,
   "metadata": {},
   "outputs": [
    {
     "data": {
      "text/plain": [
       "((147.5655418749257, 54.04404505763601),\n",
       " (46.43445812507427, 141.95595494236397))"
      ]
     },
     "execution_count": 409,
     "metadata": {},
     "output_type": "execute_result"
    }
   ],
   "source": [
    "test2._find_endpoints((97,98),(134,46),41)"
   ]
  },
  {
   "cell_type": "code",
   "execution_count": 411,
   "metadata": {},
   "outputs": [
    {
     "data": {
      "text/plain": [
       "((88.6981946175495, 105.21664931889558),\n",
       " (105.3018053824505, 90.78335068110442))"
      ]
     },
     "execution_count": 411,
     "metadata": {},
     "output_type": "execute_result"
    }
   ],
   "source": [
    "test2._find_circle(((147.5655418749257, 54.04404505763601),\n",
    " (46.43445812507427, 141.95595494236397)),11)"
   ]
  },
  {
   "cell_type": "code",
   "execution_count": 502,
   "metadata": {},
   "outputs": [],
   "source": [
    "import cv2\n",
    "import numpy as np\n",
    "import matplotlib.pyplot as plt\n",
    "\n",
    "class FindOriginal2:\n",
    "    def __init__(self, imglink):\n",
    "        self.img = cv2.imread(imglink)\n",
    "        self.gray = cv2.cvtColor(self.img, cv2.COLOR_BGR2GRAY)\n",
    "    \n",
    "    def _find_ellipses(self, threshold=0):\n",
    "        # Threshold the image set between 0 (high tolerance) and 255 (low tolerance)\n",
    "        # 255 makes it harder to find ellipses\n",
    "        ret, thresh = cv2.threshold(self.gray, threshold, 255, 0)\n",
    "        \n",
    "        # Find contours\n",
    "        contours, _ = cv2.findContours(thresh, cv2.RETR_EXTERNAL, cv2.CHAIN_APPROX_SIMPLE)\n",
    "        \n",
    "        # Check if contours are found\n",
    "        if len(contours) != 0:\n",
    "            # Iterate through contours\n",
    "            for cont in contours:\n",
    "                if len(cont) < 5:\n",
    "                    break\n",
    "                # Fit ellipse to contour\n",
    "                ellipse = cv2.fitEllipse(cont)\n",
    "                return ellipse, cont  # Return the first fitted ellipse and its contour\n",
    "        return None, None\n",
    "    \n",
    "    def _find_endpoints(self):\n",
    "        ellipse, _ = self._find_ellipses()\n",
    "        if ellipse is None:\n",
    "            return None\n",
    "        \n",
    "        # Unpack center coordinates\n",
    "        centerx, centery = ellipse[0]\n",
    "        # Unpack semi-major and semi-minor axes lengths\n",
    "        a, _ = ellipse[1]\n",
    "\n",
    "        # Convert angle to radians\n",
    "        print(90-ellipse[2])\n",
    "        angle_rad = np.deg2rad(90-ellipse[2])\n",
    "        print(angle_rad)\n",
    "        \n",
    "        # Calculate coordinates of major axis endpoints\n",
    "        x1 = centerx + a  * np.cos(angle_rad)\n",
    "        y1 = centery - a * np.sin(angle_rad)\n",
    "        x2 = centerx - a  * np.cos(angle_rad)\n",
    "        y2 = centery + a  * np.sin(angle_rad)\n",
    "        \n",
    "        return (x1, y1), (x2, y2)\n",
    "\n",
    "    def visualize_endpoints_contour(self):\n",
    "        endpoints = self._find_endpoints()\n",
    "        if endpoints is None:\n",
    "            print(\"No ellipse found\")\n",
    "            return\n",
    "        \n",
    "        ellipse, contour = self._find_ellipses()\n",
    "        if ellipse is None:\n",
    "            print(\"No ellipse found\")\n",
    "            return\n",
    "        \n",
    "        # Plot the image\n",
    "        plt.imshow(cv2.cvtColor(self.img, cv2.COLOR_BGR2RGB))\n",
    "        \n",
    "        # Draw the contour of the ellipse\n",
    "        contour = np.squeeze(contour)  # Reduce dimensionality\n",
    "        plt.plot(contour[:, 0], contour[:, 1], color='blue', linewidth=2)\n",
    "        plt.scatter(ellipse[0][0], ellipse[0][1], c='green', s=20)  # Draw green dot\n",
    "        \n",
    "        # Draw circles at the endpoints\n",
    "        for endpoint in endpoints:\n",
    "            plt.scatter(endpoint[0], endpoint[1], c='red', s=20)  # Draw red dots\n",
    "        \n",
    "        plt.show()\n"
   ]
  },
  {
   "cell_type": "code",
   "execution_count": 509,
   "metadata": {},
   "outputs": [],
   "source": [
    "test3 = FindOriginal2(\"black.png\")"
   ]
  },
  {
   "cell_type": "code",
   "execution_count": 510,
   "metadata": {},
   "outputs": [
    {
     "name": "stdout",
     "output_type": "stream",
     "text": [
      "16.740463256835938\n",
      "0.29217620214092027\n"
     ]
    },
    {
     "data": {
      "image/png": "[encoded data removed]",
      "text/plain": [
       "<Figure size 640x480 with 1 Axes>"
      ]
     },
     "metadata": {},
     "output_type": "display_data"
    }
   ],
   "source": [
    "test3.visualize_endpoints_contour()"
   ]
  },
  {
   "cell_type": "code",
   "execution_count": null,
   "metadata": {},
   "outputs": [],
   "source": []
  },
  {
   "cell_type": "code",
   "execution_count": null,
   "metadata": {},
   "outputs": [],
   "source": []
  }
 ],
 "metadata": {
  "kernelspec": {
   "display_name": "base",
   "language": "python",
   "name": "python3"
  },
  "language_info": {
   "codemirror_mode": {
    "name": "ipython",
    "version": 3
   },
   "file_extension": ".py",
   "mimetype": "text/x-python",
   "name": "python",
   "nbconvert_exporter": "python",
   "pygments_lexer": "ipython3",
   "version": "3.9.18"
  }
 },
 "nbformat": 4,
 "nbformat_minor": 2
}
