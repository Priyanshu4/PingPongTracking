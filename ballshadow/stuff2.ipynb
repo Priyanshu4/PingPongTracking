{
 "cells": [
  {
   "cell_type": "code",
   "execution_count": 98,
   "metadata": {},
   "outputs": [],
   "source": [
    "import cv2\n",
    "import numpy as np\n",
    "import matplotlib.pyplot as plt\n",
    "\n",
    "class FindBall:\n",
    "    def __init__(self, img):\n",
    "        self.img = cv2.imread(img)\n",
    "        self.gray = cv2.cvtColor(self.img, cv2.COLOR_BGR2GRAY)\n",
    "\n",
    "    def find_ellipses(self):\n",
    "        \n",
    "        # Threshold the image set between 0(high tolerance) and 255(low tolerance)\n",
    "        ret, thresh = cv2.threshold(self.gray, 0, 255, 0)\n",
    "        \n",
    "        # Find contours\n",
    "        contours, _ = cv2.findContours(thresh, cv2.RETR_EXTERNAL, cv2.CHAIN_APPROX_SIMPLE)\n",
    "        \n",
    "        # Check if contours are found\n",
    "        if len(contours) != 0:\n",
    "            # Iterate through contours\n",
    "            for cont in contours:\n",
    "                if len(cont) < 5:\n",
    "                    break\n",
    "                # Fit ellipse to contour\n",
    "                ellipse = cv2.fitEllipse(cont)\n",
    "                return ellipse  # Return the first fitted ellipse\n",
    "        return None\n",
    "\n",
    "\n",
    "    def create_ellipse(self, ellipse):\n",
    "        # Draw ellipse on image\n",
    "        # Draw ellipse on image\n",
    "        img_with_ellipse = cv2.ellipse(self.img.copy(), ellipse, (0, 255, 0), 2)\n",
    "        \n",
    "        # Get center coordinates of the ellipse\n",
    "        center = (int(ellipse[0][0]), int(ellipse[0][1]))\n",
    "        \n",
    "        # Draw black dot at the center\n",
    "        cv2.circle(img_with_ellipse, center, 5, (0, 0, 0), -1)  # -1 to fill the circle\n",
    "        \n",
    "        return img_with_ellipse\n",
    "\n",
    "\n",
    "    def fit_ellipse(self):\n",
    "\n",
    "        # Find ellipse\n",
    "        ellipse = self.find_ellipses()\n",
    "\n",
    "        # Draw ellipse on original image\n",
    "        if ellipse is not None:\n",
    "            img_with_ellipse = self.create_ellipse(ellipse)\n",
    "\n",
    "            # Convert BGR image to RGB (matplotlib uses RGB)\n",
    "            img_with_ellipse_rgb = cv2.cvtColor(img_with_ellipse, cv2.COLOR_BGR2RGB)\n",
    "\n",
    "            # Display the image with ellipse using matplotlib\n",
    "            plt.imshow(img_with_ellipse_rgb)\n",
    "            plt.axis('off')  # Turn off axis\n",
    "            plt.show()\n",
    "        else:\n",
    "            print(\"No ellipse found.\")\n",
    "        \n",
    "        return ellipse\n",
    "    \n",
    "\n",
    "    def calculate_original(self):\n",
    "\n",
    "        ellipse = self.fit_ellipse()\n",
    "        x1, y1 = ellipse[0]\n",
    "        alpha = ellipse[2] - 90 # switch to x axis\n",
    "        s,l = ellipse[1]\n",
    "        x2 = x1 + (l-s)*np.cos(alpha)\n",
    "        y2 = y1 + (l-s)*np.sin(alpha)\n",
    "        \n",
    "\n",
    "        print(f\"x1: {x1}\\ny1: {y1}\\nl: {l}\\ns: {s}\\nα: {alpha}\\n\\nx2: {x2}\\ny2: {y2}\")\n",
    "        return (x2,y2)\n",
    "\n",
    "\n"
   ]
  },
  {
   "cell_type": "code",
   "execution_count": 99,
   "metadata": {},
   "outputs": [],
   "source": [
    "oval = FindBall('oval.png')"
   ]
  },
  {
   "cell_type": "code",
   "execution_count": 100,
   "metadata": {},
   "outputs": [
    {
     "data": {
      "image/png": "[encoded data removed]",
      "text/plain": [
       "<Figure size 640x480 with 1 Axes>"
      ]
     },
     "metadata": {},
     "output_type": "display_data"
    },
    {
     "name": "stdout",
     "output_type": "stream",
     "text": [
      "x1: 399.4985046386719\n",
      "y1: 199.5001220703125\n",
      "l: 802.0917358398438\n",
      "s: 401.2516784667969\n",
      "α: 6.866455078125e-05\n",
      "\n",
      "x2: 800.3385610667742\n",
      "y2: 199.52764557276552\n"
     ]
    },
    {
     "data": {
      "text/plain": [
       "(800.3385610667742, 199.52764557276552)"
      ]
     },
     "execution_count": 100,
     "metadata": {},
     "output_type": "execute_result"
    }
   ],
   "source": [
    "oval.calculate_original()"
   ]
  },
  {
   "cell_type": "code",
   "execution_count": null,
   "metadata": {},
   "outputs": [],
   "source": []
  }
 ],
 "metadata": {
  "kernelspec": {
   "display_name": "base",
   "language": "python",
   "name": "python3"
  },
  "language_info": {
   "codemirror_mode": {
    "name": "ipython",
    "version": 3
   },
   "file_extension": ".py",
   "mimetype": "text/x-python",
   "name": "python",
   "nbconvert_exporter": "python",
   "pygments_lexer": "ipython3",
   "version": "3.9.18"
  }
 },
 "nbformat": 4,
 "nbformat_minor": 2
}
