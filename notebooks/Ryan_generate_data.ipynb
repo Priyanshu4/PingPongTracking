{
 "cells": [
  {
   "cell_type": "code",
   "execution_count": 1,
   "metadata": {},
   "outputs": [
    {
     "name": "stdout",
     "output_type": "stream",
     "text": [
      "1\n",
      "1\n",
      "1\n",
      "1\n",
      "1\n",
      "1\n",
      "1\n",
      "1\n",
      "done: 380\n"
     ]
    }
   ],
   "source": [
    "import cv2\n",
    "import os\n",
    "import matplotlib.pyplot as plt\n",
    "\n",
    "# Read the video\n",
    "# Create a VideoWriter object\n",
    "video_path = \"15.mp4\"\n",
    "\n",
    "cap = cv2.VideoCapture(video_path)\n",
    "\n",
    "fps = cap.get(cv2.CAP_PROP_FPS)\n",
    "frame_width = int(cap.get(cv2.CAP_PROP_FRAME_WIDTH))\n",
    "frame_height = int(cap.get(cv2.CAP_PROP_FRAME_HEIGHT))\n",
    "\n",
    "out = cv2.VideoWriter('output/mask.mp4', cv2.VideoWriter_fourcc(*'mp4v'), fps, (frame_width, frame_height))\n",
    "\n",
    "# Get the frame width and height\n",
    "width = int(cap.get(cv2.CAP_PROP_FRAME_WIDTH))\n",
    "height = int(cap.get(cv2.CAP_PROP_FRAME_HEIGHT))\n",
    "\n",
    "# Create a background subtractor\n",
    "bg_subtractor = cv2.createBackgroundSubtractorMOG2()\n",
    "\n",
    "# Initialize the frame counter\n",
    "frame_counter = 0\n",
    "\n",
    "# Loop over the frames of the video\n",
    "while True:\n",
    "  # Capture the current frame\n",
    "  ret, frame = cap.read()\n",
    "\n",
    "  # Check if the frame is empty\n",
    "  if not ret:\n",
    "    print(\"done:\", frame_counter)\n",
    "    break\n",
    "\n",
    "  # Rotate the frame 90 degrees counterclockwise\n",
    "  frame = cv2.rotate(frame, cv2.ROTATE_90_COUNTERCLOCKWISE)\n",
    "\n",
    "  # Convert the frame to grayscale\n",
    "  gray_frame = cv2.cvtColor(frame, cv2.COLOR_BGR2GRAY)\n",
    "\n",
    "  # Subtract the background from the frame\n",
    "  fg_mask = bg_subtractor.apply(frame)\n",
    "  fg_mask = cv2.cvtColor(fg_mask, cv2.COLOR_GRAY2RGB)\n",
    "\n",
    "  # Check if the frame counter is a multiple of 150\n",
    "  # Plot the difference image\n",
    "  # plt.imshow(fg_mask, cmap=\"gray\")\n",
    "  # plt.axis(\"off\")\n",
    "  # plt.show()\n",
    "  if frame_counter % 50 == 0:\n",
    "    print(\"1\")\n",
    "    out.write(fg_mask)\n",
    "    cv2.imwrite(f'ryan_data/frame_{frame_counter}.jpg', fg_mask)\n",
    "    cv2.imwrite(f'ryan_data/org_frame_{frame_counter}.jpg', frame)\n",
    "\n",
    "\n",
    "  # Increment the frame counter\n",
    "  frame_counter += 1\n",
    "\n",
    "# Release the video capture object\n",
    "cap.release()\n",
    "out.release()\n"
   ]
  }
 ],
 "metadata": {
  "kernelspec": {
   "display_name": "base",
   "language": "python",
   "name": "python3"
  },
  "language_info": {
   "codemirror_mode": {
    "name": "ipython",
    "version": 3
   },
   "file_extension": ".py",
   "mimetype": "text/x-python",
   "name": "python",
   "nbconvert_exporter": "python",
   "pygments_lexer": "ipython3",
   "version": "3.11.5"
  }
 },
 "nbformat": 4,
 "nbformat_minor": 2
}
