{
 "cells": [
  {
   "cell_type": "code",
   "execution_count": 1,
   "metadata": {},
   "outputs": [],
   "source": [
    "# Add the parent directory to the path so that we can import the src module\n",
    "import os\n",
    "import sys\n",
    "module_path = os.path.abspath(os.path.join('..'))\n",
    "if module_path not in sys.path:\n",
    "    sys.path.append(module_path)"
   ]
  },
  {
   "cell_type": "code",
   "execution_count": 2,
   "metadata": {},
   "outputs": [],
   "source": [
    "from src.camera import CameraCalibration, Camera, CameraPose\n",
    "from src.camera.video import VideoStream\n",
    "from src.pose.position_estimation import PositionEstimation\n",
    "from src.pingpong.ball import BallConstants\n",
    "from src.fileutils import DATA_DIR\n",
    "\n",
    "from tqdm import tqdm\n"
   ]
  },
  {
   "cell_type": "code",
   "execution_count": 5,
   "metadata": {},
   "outputs": [
    {
     "name": "stderr",
     "output_type": "stream",
     "text": [
      "0it [00:00, ?it/s]"
     ]
    },
    {
     "name": "stderr",
     "output_type": "stream",
     "text": [
      "866it [00:26, 32.89it/s]\n",
      "100%|██████████| 866/866 [00:26<00:00, 32.46it/s]\n"
     ]
    },
    {
     "data": {
      "text/plain": [
       "array([[1.77359284e+03, 0.00000000e+00, 9.11756034e+02],\n",
       "       [0.00000000e+00, 2.18801937e+03, 5.44315604e+02],\n",
       "       [0.00000000e+00, 0.00000000e+00, 1.00000000e+00]])"
      ]
     },
     "execution_count": 5,
     "metadata": {},
     "output_type": "execute_result"
    }
   ],
   "source": [
    "calibration_video = VideoStream(DATA_DIR / 'calibration' / 'Priyanshu_iPhone13.MOV')\n",
    "calibration_images = list(tqdm(calibration_video))\n",
    "calibration = CameraCalibration.from_calibration_video(tqdm(calibration_images))\n",
    "calibration.intrinsic_matrix"
   ]
  }
 ],
 "metadata": {
  "kernelspec": {
   "display_name": "pingpong",
   "language": "python",
   "name": "python3"
  },
  "language_info": {
   "codemirror_mode": {
    "name": "ipython",
    "version": 3
   },
   "file_extension": ".py",
   "mimetype": "text/x-python",
   "name": "python",
   "nbconvert_exporter": "python",
   "pygments_lexer": "ipython3",
   "version": "3.12.2"
  }
 },
 "nbformat": 4,
 "nbformat_minor": 2
}
